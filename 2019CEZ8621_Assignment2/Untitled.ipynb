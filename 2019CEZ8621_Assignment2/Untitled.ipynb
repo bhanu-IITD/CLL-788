{
 "cells": [
  {
   "cell_type": "code",
   "execution_count": 16,
   "metadata": {},
   "outputs": [],
   "source": [
    "#Import Libraries\n",
    "import numpy as np\n",
    "import pandas as pd\n",
    "import matplotlib.pyplot as plt\n",
    "import matplotlib.style as style\n",
    "import seaborn as sns\n",
    "from tqdm import tqdm\n",
    "import time\n",
    "import timeit\n",
    "import random\n",
    "style.use('seaborn-white')"
   ]
  },
  {
   "cell_type": "code",
   "execution_count": 17,
   "metadata": {},
   "outputs": [
    {
     "data": {
      "image/png": "[encoded data removed]",
      "text/plain": [
       "<Figure size 401.625x360 with 1 Axes>"
      ]
     },
     "metadata": {},
     "output_type": "display_data"
    }
   ],
   "source": [
    "#Data Preparation and Data Visualization\n",
    "q1train =  pd.read_excel('q1train.xlsx')\n",
    "sns.pairplot(x_vars=[\"Aptitude\"], y_vars=[\"Verbal\"], data=q1train, hue=\"Label\", height=5)\n",
    "x = np.array(q1train[['Aptitude','Verbal']].copy())\n",
    "y = np.array(q1train[['Label']].copy()).reshape(-1,1)"
   ]
  },
  {
   "cell_type": "code",
   "execution_count": 18,
   "metadata": {},
   "outputs": [],
   "source": [
    "\n",
    "# Weights (Synapses)\n",
    "w = [0,0]\n",
    "\n",
    "# Theshold\n",
    "threshold = 0\n",
    "\n",
    "# Bias\n",
    "bias = 1\n",
    "\n",
    "# Learning rate - [0, 1]\n",
    "learning_rate = 1\n",
    "\n",
    "# Maximum number allowed of iterations\n",
    "max_iterations = 100"
   ]
  },
  {
   "cell_type": "code",
   "execution_count": 19,
   "metadata": {},
   "outputs": [
    {
     "ename": "IndexError",
     "evalue": "index 2 is out of bounds for axis 0 with size 2",
     "output_type": "error",
     "traceback": [
      "\u001b[0;31m---------------------------------------------------------------------------\u001b[0m",
      "\u001b[0;31mIndexError\u001b[0m                                Traceback (most recent call last)",
      "\u001b[0;32m<ipython-input-19-2eddc0434151>\u001b[0m in \u001b[0;36m<module>\u001b[0;34m\u001b[0m\n\u001b[1;32m     17\u001b[0m \u001b[0;34m\u001b[0m\u001b[0m\n\u001b[1;32m     18\u001b[0m         \u001b[0;31m# Update the Weights if the output does not match with the Desired output\u001b[0m\u001b[0;34m\u001b[0m\u001b[0;34m\u001b[0m\u001b[0;34m\u001b[0m\u001b[0m\n\u001b[0;32m---> 19\u001b[0;31m         \u001b[0;32mif\u001b[0m \u001b[0my\u001b[0m \u001b[0;34m==\u001b[0m \u001b[0mx\u001b[0m\u001b[0;34m[\u001b[0m\u001b[0mi\u001b[0m\u001b[0;34m]\u001b[0m\u001b[0;34m[\u001b[0m\u001b[0;36m2\u001b[0m\u001b[0;34m]\u001b[0m\u001b[0;34m:\u001b[0m\u001b[0;34m\u001b[0m\u001b[0;34m\u001b[0m\u001b[0m\n\u001b[0m\u001b[1;32m     20\u001b[0m             \u001b[0mhits\u001b[0m \u001b[0;34m+=\u001b[0m \u001b[0;36m1\u001b[0m\u001b[0;34m\u001b[0m\u001b[0;34m\u001b[0m\u001b[0m\n\u001b[1;32m     21\u001b[0m         \u001b[0;32melse\u001b[0m\u001b[0;34m:\u001b[0m\u001b[0;34m\u001b[0m\u001b[0;34m\u001b[0m\u001b[0m\n",
      "\u001b[0;31mIndexError\u001b[0m: index 2 is out of bounds for axis 0 with size 2"
     ]
    }
   ],
   "source": [
    "for k in range(1, max_iterations):\n",
    "    hits = 0\n",
    "    for i in range(0,len(x)):\n",
    "        sum = 0\n",
    "        # Weighted sum\n",
    "        for j in range(0,len(x[i])-1):\n",
    "            sum += x[i][j] * w[j]\n",
    "\n",
    "        # Output = Bias + Weighted sum\n",
    "        output = bias + sum\n",
    "\n",
    "        # Output is determined by the Threshold\n",
    "        if output > threshold:\n",
    "            y = 1\n",
    "        else:\n",
    "            y = -1     \n",
    "\n",
    "        # Update the Weights if the output does not match with the Desired output\n",
    "        if y == x[i][2]:\n",
    "            hits += 1\n",
    "        else:\n",
    "            for j in range (0,len(w)):             \n",
    "                w[j] = w[j] + (learning_rate * x[i][2] * x[i][j])\n",
    "            bias = bias + learning_rate * x[i][2]\n",
    "        xA = 1\n",
    "        xB = -1\n",
    "\n",
    "        if w[1] != 0:\n",
    "            yA = (- w[0] * xA - bias) / w[1]\n",
    "            yB = (- w[0] * xB - bias) / w[1]\n",
    "        else:\n",
    "            xA = - bias / w[0]\n",
    "            xB = - bias / w[0]\n",
    "\n",
    "            yA = 1\n",
    "            yB = -1"
   ]
  },
  {
   "cell_type": "code",
   "execution_count": null,
   "metadata": {},
   "outputs": [],
   "source": []
  }
 ],
 "metadata": {
  "kernelspec": {
   "display_name": "Python 3",
   "language": "python",
   "name": "python3"
  },
  "language_info": {
   "codemirror_mode": {
    "name": "ipython",
    "version": 3
   },
   "file_extension": ".py",
   "mimetype": "text/x-python",
   "name": "python",
   "nbconvert_exporter": "python",
   "pygments_lexer": "ipython3",
   "version": "3.7.4"
  }
 },
 "nbformat": 4,
 "nbformat_minor": 4
}
