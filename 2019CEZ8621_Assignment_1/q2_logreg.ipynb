{
 "cells": [
  {
   "cell_type": "code",
   "execution_count": 9,
   "metadata": {},
   "outputs": [],
   "source": [
    "#Import Libraries\n",
    "import numpy as np\n",
    "import pandas as pd\n",
    "import matplotlib.pyplot as plt\n",
    "import matplotlib.style as style\n",
    "import seaborn as sns\n",
    "from tqdm import tqdm\n",
    "import time\n",
    "style.use('seaborn-white')"
   ]
  },
  {
   "cell_type": "code",
   "execution_count": 10,
   "metadata": {},
   "outputs": [],
   "source": [
    "#Data Preparation\n",
    "q2train =  pd.read_excel('q2train.xlsx')\n",
    "x = np.array(q2train[['Aptitude','Verbal']].copy())\n",
    "y = np.array(q2train[['Label']].copy()).reshape(-1,1)\n",
    "ones = np.ones((x.shape[0],1))\n",
    "x = np.concatenate((ones,x),axis=1)"
   ]
  },
  {
   "cell_type": "code",
   "execution_count": 11,
   "metadata": {},
   "outputs": [
    {
     "name": "stderr",
     "output_type": "stream",
     "text": [
      "100%|██████████| 100000/100000 [00:09<00:00, 10513.84it/s]\n"
     ]
    }
   ],
   "source": [
    "# Training of the prediction function using logistic regression(sigmoid function) \n",
    "# learning rate of 0.001 and 1 lakh iterations.\n",
    "alpha = 0.001\n",
    "iterations = 100000\n",
    "n = len(y)\n",
    "i = 0\n",
    "j_theta = np.empty(iterations)\n",
    "theta = np.zeros((x.shape[1],1))\n",
    "for i in tqdm(range(iterations)):\n",
    "    z = np.dot(x,theta)\n",
    "    h = 1/(1+np.exp(-z))\n",
    "    gradient = np.dot(x.T, (h - y))\n",
    "    theta = theta-(1/n)*(alpha*gradient)\n",
    "    cost = (-y * np.log(h) - (1 - y) * np.log(1 - h)).mean()\n",
    "    j_theta[i] = cost"
   ]
  },
  {
   "cell_type": "code",
   "execution_count": 12,
   "metadata": {},
   "outputs": [
    {
     "name": "stdout",
     "output_type": "stream",
     "text": [
      "Logistic regression  gives :-\n",
      "theta0 =  -3.465955503926825\n",
      "theta1 =  0.05786282629111508\n",
      "theta2 =  -0.0010141044166155854\n",
      "Cost = 0.4986613130513427\n"
     ]
    },
    {
     "data": {
      "image/png": "[encoded data removed]",
      "text/plain": [
       "<Figure size 432x288 with 1 Axes>"
      ]
     },
     "metadata": {},
     "output_type": "display_data"
    }
   ],
   "source": [
    "print(\"Logistic regression  gives :-\")\n",
    "print(\"theta0 = \", theta.item(0))\n",
    "print(\"theta1 = \", theta.item(1))\n",
    "print(\"theta2 = \", theta.item(2))\n",
    "print(\"Cost =\",j_theta[i])\n",
    "plt.plot(z,h)\n",
    "plt.title('Sigmoid function')\n",
    "plt.xlabel('z')\n",
    "plt.ylabel('g(z)')\n",
    "plt.savefig(\"log_reg.png\")"
   ]
  },
  {
   "cell_type": "code",
   "execution_count": 13,
   "metadata": {},
   "outputs": [],
   "source": [
    "# Predicting the results in test file using the trained function \n",
    "q2test = pd.read_excel('q2test.xlsx')\n",
    "X_test = np.array(q2test[['Aptitude','Verbal']].copy())\n",
    "ones = np.ones((X_test.shape[0],1))\n",
    "x_test = np.hstack((ones,X_test))\n",
    "z_test = np.dot(x_test,theta)\n",
    "h_test = 1/(1+np.exp(-z_test))"
   ]
  },
  {
   "cell_type": "code",
   "execution_count": 14,
   "metadata": {},
   "outputs": [
    {
     "name": "stdout",
     "output_type": "stream",
     "text": [
      "        Aptitude     Verbal      Label\n",
      "count  30.000000  30.000000  30.000000\n",
      "mean   69.895452  70.846964   0.600821\n",
      "std    18.379403  18.192164   0.219723\n",
      "min    32.822833  35.670703   0.166484\n",
      "25%    56.021297  59.928088   0.433747\n",
      "50%    70.507508  74.552429   0.627162\n",
      "75%    83.273537  86.826465   0.786594\n",
      "max    99.927858  96.747427   0.904016\n"
     ]
    }
   ],
   "source": [
    "# creating output dataframe \n",
    "# using \"describe()\" function to understand the distribution of predicted values using sigmoid function.\n",
    "output = pd.DataFrame(np.hstack((X_test,h_test)))\n",
    "output.columns = ['Aptitude', 'Verbal', 'Label']\n",
    "print(output.describe())"
   ]
  },
  {
   "cell_type": "code",
   "execution_count": 17,
   "metadata": {},
   "outputs": [
    {
     "name": "stdout",
     "output_type": "stream",
     "text": [
      "     Aptitude     Verbal  Label\n",
      "0   32.822833  43.407173    0.0\n",
      "1   64.139320  78.131688    0.0\n",
      "2   72.446494  96.327593    0.0\n",
      "3   60.557886  73.194998    0.0\n",
      "4   58.940956  75.958448    0.0\n",
      "5   99.927858  72.469252    1.0\n",
      "6   47.364269  88.575865    0.0\n",
      "7   50.558160  75.909860    0.0\n",
      "8   60.555556  42.608409    0.0\n",
      "9   82.326662  42.819879    1.0\n",
      "10  89.013896  69.903789    1.0\n",
      "11  94.934507  45.794307    1.0\n",
      "12  67.419257  66.689353    0.0\n",
      "13  57.338706  59.614282    0.0\n",
      "14  80.466756  91.060148    1.0\n",
      "15  68.568522  85.694307    0.0\n",
      "16  42.175455  78.944786    0.0\n",
      "17  75.577702  90.524539    0.0\n",
      "18  78.735424  96.747427    1.0\n",
      "19  52.448004  60.869505    0.0\n",
      "20  94.194331  77.259105    1.0\n",
      "21  90.548551  87.608792    1.0\n",
      "22  55.582161  35.670703    0.0\n",
      "23  74.592692  84.945137    0.0\n",
      "24  89.945807  45.458284    1.0\n",
      "25  83.589163  48.480286    1.0\n",
      "26  42.361701  87.203851    0.0\n",
      "27  99.415009  68.875409    1.0\n",
      "28  55.440018  65.031938    0.0\n",
      "29  74.875893  89.629813    0.0\n"
     ]
    }
   ],
   "source": [
    "# Categorically assigning \"1\" to values above 0.7 for sigmoid function and exporting the output as a csv file. \n",
    "i = 0\n",
    "for i in range (len(output)):\n",
    "    if output.at[i,'Label'] > 0.7:\n",
    "        output.at[i,'Label'] = 1\n",
    "    else :\n",
    "        output.at[i,'Label'] = 0\n",
    "output.to_csv('Output.csv')\n",
    "print(output)"
   ]
  },
  {
   "cell_type": "code",
   "execution_count": null,
   "metadata": {},
   "outputs": [],
   "source": []
  }
 ],
 "metadata": {
  "kernelspec": {
   "display_name": "Python 3",
   "language": "python",
   "name": "python3"
  },
  "language_info": {
   "codemirror_mode": {
    "name": "ipython",
    "version": 3
   },
   "file_extension": ".py",
   "mimetype": "text/x-python",
   "name": "python",
   "nbconvert_exporter": "python",
   "pygments_lexer": "ipython3",
   "version": "3.7.4"
  }
 },
 "nbformat": 4,
 "nbformat_minor": 4
}
